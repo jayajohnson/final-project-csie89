{
  "nbformat": 4,
  "nbformat_minor": 0,
  "metadata": {
    "colab": {
      "name": "JayaJohnson-FP-TextClassification-Keywords-Keras(3).ipynb",
      "version": "0.3.2",
      "provenance": []
    },
    "kernelspec": {
      "name": "python3",
      "display_name": "Python 3"
    },
    "accelerator": "GPU"
  },
  "cells": [
    {
      "cell_type": "code",
      "metadata": {
        "id": "LlCUtY3nmedZ",
        "colab_type": "code",
        "outputId": "ff631c84-dfc8-463d-cefb-335d4d7ce93c",
        "colab": {
          "base_uri": "https://localhost:8080/",
          "height": 122
        }
      },
      "source": [
        "from google.colab import drive\n",
        "drive.mount('/content/drive')"
      ],
      "execution_count": 0,
      "outputs": [
        {
          "output_type": "stream",
          "text": [
            "Go to this URL in a browser: https://accounts.google.com/o/oauth2/auth?client_id=947318989803-6bn6qk8qdgf4n4g3pfee6491hc0brc4i.apps.googleusercontent.com&redirect_uri=urn%3Aietf%3Awg%3Aoauth%3A2.0%3Aoob&scope=email%20https%3A%2F%2Fwww.googleapis.com%2Fauth%2Fdocs.test%20https%3A%2F%2Fwww.googleapis.com%2Fauth%2Fdrive%20https%3A%2F%2Fwww.googleapis.com%2Fauth%2Fdrive.photos.readonly%20https%3A%2F%2Fwww.googleapis.com%2Fauth%2Fpeopleapi.readonly&response_type=code\n",
            "\n",
            "Enter your authorization code:\n",
            "··········\n",
            "Mounted at /content/drive\n"
          ],
          "name": "stdout"
        }
      ]
    },
    {
      "cell_type": "markdown",
      "metadata": {
        "id": "PQc_mqzWnbIC",
        "colab_type": "text"
      },
      "source": [
        "# Load training data\n",
        "\n",
        "The training data for building the model will be from the previous run of extracting keywords from NLTK.\n",
        "\n"
      ]
    },
    {
      "cell_type": "code",
      "metadata": {
        "id": "GU_1RY_potrA",
        "colab_type": "code",
        "outputId": "baf9db39-c33c-460e-9aaa-c384bc7a127e",
        "colab": {
          "base_uri": "https://localhost:8080/",
          "height": 68
        }
      },
      "source": [
        "import pandas as pd\n",
        "filepath = '/content/drive/My Drive/final-project/keywords/keyword-context.txt'\n",
        "df = pd.read_csv(filepath, names=['context', 'keywords'], sep=',')   \n",
        "print(df.iloc[0])"
      ],
      "execution_count": 0,
      "outputs": [
        {
          "output_type": "stream",
          "text": [
            "context     borqs beijing qualified high technology enterp...\n",
            "keywords                                        borqs beijing\n",
            "Name: 0, dtype: object\n"
          ],
          "name": "stdout"
        }
      ]
    },
    {
      "cell_type": "markdown",
      "metadata": {
        "id": "d9oR1IG4soJR",
        "colab_type": "text"
      },
      "source": [
        "# Generate Test and Train Data\n",
        "\n",
        "First, we are going to split the data into a training and testing set which will allow us to evaluate the accuracy and see if your model generalizes well. \n",
        "\n",
        "This means whether the model is able to perform well on data it has not seen before."
      ]
    },
    {
      "cell_type": "code",
      "metadata": {
        "id": "-iRCj7tmtNoL",
        "colab_type": "code",
        "colab": {}
      },
      "source": [
        "from sklearn.model_selection import train_test_split\n",
        "\n",
        "sentences = df['context'].values\n",
        "y = df['keywords'].values\n",
        "\n",
        "sentences_train, sentences_test, y_train, y_test = train_test_split(sentences, y, test_size=0.25, random_state=1000)"
      ],
      "execution_count": 0,
      "outputs": []
    },
    {
      "cell_type": "markdown",
      "metadata": {
        "id": "eAXCDE5rvMPr",
        "colab_type": "text"
      },
      "source": [
        "# Building the Keras Model\n",
        "\n",
        "Keras supports two main types of models. You have the Sequential model API and the functional API which can do everything of the Sequential model but it can be also used for advanced models with complex network architectures.\n",
        "\n",
        "The Sequential model is a linear stack of layers, where we can use the large variety of available layers in Keras. The most common layer is the Dense layer which is your regular densely connected neural network layer with all the weights and biases that we are already familiar with.\n",
        "\n",
        "Build a helper function to visualize the loss and accuracy for the training and testing data based on the History callback. This callback, which is automatically applied to each Keras model, records the loss and additional metrics that can be added in the .fit() method. In this case, we are only interested in the accuracy. This helper function employs the matplotlib plotting library:"
      ]
    },
    {
      "cell_type": "code",
      "metadata": {
        "id": "Pv2-7I72wiDM",
        "colab_type": "code",
        "colab": {}
      },
      "source": [
        "import matplotlib.pyplot as plt\n",
        "plt.style.use('ggplot')\n",
        "\n",
        "def plot_history(history):\n",
        "    acc = history.history['acc']\n",
        "    val_acc = history.history['val_acc']\n",
        "    loss = history.history['loss']\n",
        "    val_loss = history.history['val_loss']\n",
        "    x = range(1, len(acc) + 1)\n",
        "\n",
        "    plt.figure(figsize=(12, 5))\n",
        "    plt.subplot(1, 2, 1)\n",
        "    plt.plot(x, acc, 'b', label='Training acc')\n",
        "    plt.plot(x, val_acc, 'r', label='Validation acc')\n",
        "    plt.title('Training and validation accuracy')\n",
        "    plt.legend()\n",
        "    plt.subplot(1, 2, 2)\n",
        "    plt.plot(x, loss, 'b', label='Training loss')\n",
        "    plt.plot(x, val_loss, 'r', label='Validation loss')\n",
        "    plt.title('Training and validation loss')\n",
        "    plt.legend()"
      ],
      "execution_count": 0,
      "outputs": []
    },
    {
      "cell_type": "markdown",
      "metadata": {
        "id": "Z1HpARXayYQX",
        "colab_type": "text"
      },
      "source": [
        "# Text preprocessing and sequence preprocessing.\n",
        "\n",
        "Now we need to tokenize the data into a format that can be used by the word embeddings. Keras offers a couple of convenience methods for text preprocessing and sequence preprocessing which you can employ to prepare your text.\n",
        "\n"
      ]
    },
    {
      "cell_type": "markdown",
      "metadata": {
        "id": "PPaed-A-29JC",
        "colab_type": "text"
      },
      "source": [
        "#Convolutional Neural Networks (CNN)\n",
        "\n",
        " CNN has hidden layers which are called convolutional layers. \n",
        "\n",
        "This is the very core of the technique, the mathematical process of convolution. With each convolutional layer the network is able to detect more complex patterns. \n",
        "\n",
        "When we are working with sequential data, like text, you work with one dimensional convolutions, but the idea and the application stays the same. You still want to pick up on patterns in the sequence which become more complex with each added convolutional layer."
      ]
    },
    {
      "cell_type": "code",
      "metadata": {
        "id": "4snmdp1S3Zj5",
        "colab_type": "code",
        "outputId": "c6fefb9f-538d-49d6-eb7a-bb0ff4032a1a",
        "colab": {
          "base_uri": "https://localhost:8080/",
          "height": 306
        }
      },
      "source": [
        "embedding_dim = 100\n",
        "\n",
        "model = Sequential()\n",
        "model.add(layers.Embedding(vocab_size, embedding_dim, input_length=maxlen))\n",
        "model.add(layers.Conv1D(128, 5, activation='relu'))\n",
        "model.add(layers.GlobalMaxPooling1D())\n",
        "model.add(layers.Dense(10, activation='relu'))\n",
        "model.add(layers.Dense(1, activation='softmax'))\n",
        "model.compile(optimizer='adam',\n",
        "              loss='sparse_categorical_crossentropy',\n",
        "              metrics=['accuracy'])\n",
        "model.summary()"
      ],
      "execution_count": 0,
      "outputs": [
        {
          "output_type": "stream",
          "text": [
            "_________________________________________________________________\n",
            "Layer (type)                 Output Shape              Param #   \n",
            "=================================================================\n",
            "embedding_154 (Embedding)    (None, 100, 100)          498100    \n",
            "_________________________________________________________________\n",
            "conv1d_149 (Conv1D)          (None, 96, 128)           64128     \n",
            "_________________________________________________________________\n",
            "global_max_pooling1d_153 (Gl (None, 128)               0         \n",
            "_________________________________________________________________\n",
            "dense_323 (Dense)            (None, 10)                1290      \n",
            "_________________________________________________________________\n",
            "dense_324 (Dense)            (None, 1)                 11        \n",
            "=================================================================\n",
            "Total params: 563,529\n",
            "Trainable params: 563,529\n",
            "Non-trainable params: 0\n",
            "_________________________________________________________________\n"
          ],
          "name": "stdout"
        }
      ]
    },
    {
      "cell_type": "code",
      "metadata": {
        "id": "A1mxg3Fy3_xP",
        "colab_type": "code",
        "outputId": "6c6e0cb9-da53-47fd-ae38-0ab6b3c4fa64",
        "colab": {
          "base_uri": "https://localhost:8080/",
          "height": 371
        }
      },
      "source": [
        "history = model.fit(X_train, y_train,\n",
        "                    epochs=10,\n",
        "                    verbose=False,\n",
        "                    validation_data=(X_test, y_test),\n",
        "                    batch_size=10)\n",
        "loss, accuracy = model.evaluate(X_train, y_train, verbose=False)\n",
        "print(\"Training Accuracy: {:.4f}\".format(accuracy))\n",
        "loss, accuracy = model.evaluate(X_test, y_test, verbose=False)\n",
        "print(\"Testing Accuracy:  {:.4f}\".format(accuracy))\n",
        "plot_history(history)"
      ],
      "execution_count": 0,
      "outputs": [
        {
          "output_type": "stream",
          "text": [
            "Training Accuracy: 0.0067\n",
            "Testing Accuracy:  0.0006\n"
          ],
          "name": "stdout"
        },
        {
          "output_type": "display_data",
          "data": {
            "image/png": "[encoded data removed]",
            "text/plain": [
              "<Figure size 864x360 with 2 Axes>"
            ]
          },
          "metadata": {
            "tags": []
          }
        }
      ]
    },
    {
      "cell_type": "markdown",
      "metadata": {
        "id": "u4TttWb26PdP",
        "colab_type": "text"
      },
      "source": [
        "#Hyperparameters Optimization\n",
        "\n",
        "One crucial steps of deep learning and working with neural networks is hyperparameter optimization.\n",
        "\n",
        "One popular method for hyperparameter optimization is grid search. What this method does is it takes lists of parameters and it runs the model with each parameter combination that it can find. It is the most thorough way but also the most computationally heavy way to do this. Another common way, random search, which you’ll see in action here, simply takes random combinations of parameters.\n",
        "\n",
        "In order to apply random search with Keras, we use the KerasClassifier which serves as a wrapper for the scikit-learn API. With this wrapper we are able to use the various tools available with scikit-learn like cross-validation. The class  is RandomizedSearchCV which implements random search with cross-validation. Cross-validation is a way to validate the model and take the whole data set and separate it into multiple testing and training data sets.\n",
        "\n",
        "There are various types of cross-validation. One type is the k-fold cross-validation . In this type the data set is partitioned into k equal sized sets where one set is used for testing and the rest of the partitions are used for training. This enables you to run k different runs, where each partition is once used as a testing set. So, the higher k is the more accurate the model evaluation is, but the smaller each testing set is.\n",
        "\n",
        "First step for KerasClassifier is to have a function that creates a Keras model. We will use the previous model, but we will allow various parameters to be set for the hyperparameter optimization:"
      ]
    },
    {
      "cell_type": "code",
      "metadata": {
        "id": "Jz0Nva5d6NVt",
        "colab_type": "code",
        "colab": {}
      },
      "source": [
        "def create_model(num_filters, kernel_size, vocab_size, embedding_dim, maxlen):\n",
        "    model = Sequential()\n",
        "    model.add(layers.Embedding(vocab_size, embedding_dim, input_length=maxlen))\n",
        "    model.add(layers.Conv1D(num_filters, kernel_size, activation='relu'))\n",
        "    model.add(layers.GlobalMaxPooling1D())\n",
        "    model.add(layers.Dense(10, activation='relu'))\n",
        "    model.add(layers.Dense(1, activation='softmax'))\n",
        "    model.compile(optimizer='adam',\n",
        "                  loss='sparse_categorical_crossentropy',\n",
        "                  metrics=['accuracy'])\n",
        "    return model"
      ],
      "execution_count": 0,
      "outputs": []
    },
    {
      "cell_type": "code",
      "metadata": {
        "id": "4fvI_vUQ63gs",
        "colab_type": "code",
        "colab": {}
      },
      "source": [
        "param_grid = dict(num_filters=[32, 64, 128],\n",
        "                  kernel_size=[3, 5, 7],\n",
        "                  vocab_size=[5000], \n",
        "                  embedding_dim=[50],\n",
        "                  maxlen=[100])"
      ],
      "execution_count": 0,
      "outputs": []
    },
    {
      "cell_type": "markdown",
      "metadata": {
        "id": "mz7W0lMV7HO9",
        "colab_type": "text"
      },
      "source": [
        "The resulting instance and the parameter grid are then used as the estimator in the RandomSearchCV class. Additionally, we choose the number of folds in the k-folds cross-validation, which is in this case 4.  Besides the RandomSearchCV and KerasClassifier, there is a little block of code handling the evaluation:"
      ]
    },
    {
      "cell_type": "code",
      "metadata": {
        "id": "cWzIPIBk7S9E",
        "colab_type": "code",
        "outputId": "93dcce75-6e87-4815-8e80-2c4f0d966ba0",
        "colab": {
          "base_uri": "https://localhost:8080/",
          "height": 170
        }
      },
      "source": [
        "from keras.wrappers.scikit_learn import KerasClassifier\n",
        "from sklearn.model_selection import RandomizedSearchCV\n",
        "from keras.preprocessing.text import Tokenizer\n",
        "from keras.preprocessing.sequence import pad_sequences\n",
        "from keras.models import Sequential\n",
        "from keras import layers\n",
        "\n",
        "# Main settings\n",
        "epochs = 20\n",
        "embedding_dim = 50\n",
        "maxlen = 100\n",
        "output_file = '/content/output.txt'\n",
        "\n",
        "# Run grid search for each source (yelp, amazon, imdb)\n",
        "sentences = df['context'].values\n",
        "y = df['keywords'].values\n",
        "\n",
        "# Train-test split\n",
        "sentences_train, sentences_test, y_train, y_test = train_test_split(\n",
        "sentences, y, test_size=0.25, random_state=1000)\n",
        "\n",
        "# Tokenize words\n",
        "tokenizer = Tokenizer(num_words=5000)\n",
        "tokenizer.fit_on_texts(sentences_train)\n",
        "X_train = tokenizer.texts_to_sequences(sentences_train)\n",
        "X_test = tokenizer.texts_to_sequences(sentences_test)\n",
        "\n",
        "# Adding 1 because of reserved 0 index\n",
        "vocab_size = len(tokenizer.word_index) + 1\n",
        "\n",
        "# Pad sequences with zeros\n",
        "X_train = pad_sequences(X_train, padding='post', maxlen=maxlen)\n",
        "X_test = pad_sequences(X_test, padding='post', maxlen=maxlen)\n",
        "\n",
        "# Parameter grid for grid search\n",
        "param_grid = dict(num_filters=[32, 64, 128],\n",
        "                      kernel_size=[3, 5, 7],\n",
        "                      vocab_size=[vocab_size],\n",
        "                      embedding_dim=[embedding_dim],\n",
        "                      maxlen=[maxlen])\n",
        "model = KerasClassifier(build_fn=create_model,\n",
        "                            epochs=epochs, batch_size=10,\n",
        "                            verbose=False)\n",
        "grid = RandomizedSearchCV(estimator=model, param_distributions=param_grid,\n",
        "                              cv=4, verbose=1, n_iter=5)\n",
        "grid_result = grid.fit(X_train, y_train)\n",
        "\n",
        "# Evaluate testing set\n",
        "test_accuracy = grid.score(X_test, y_test)\n",
        "\n",
        "# Save and evaluate results\n",
        "with open(output_file, 'a') as f:\n",
        "  s = ('Running {} data set\\nBest Accuracy : '\n",
        "             '{:.4f}\\n{}\\nTest Accuracy : {:.4f}\\n\\n')\n",
        "  output_string = s.format(\n",
        "            'edgar',\n",
        "            grid_result.best_score_,\n",
        "            grid_result.best_params_,\n",
        "            test_accuracy)\n",
        "  print(output_string)\n",
        "  f.write(output_string)"
      ],
      "execution_count": 0,
      "outputs": [
        {
          "output_type": "stream",
          "text": [
            "Fitting 4 folds for each of 5 candidates, totalling 20 fits\n"
          ],
          "name": "stdout"
        },
        {
          "output_type": "stream",
          "text": [
            "[Parallel(n_jobs=1)]: Using backend SequentialBackend with 1 concurrent workers.\n",
            "[Parallel(n_jobs=1)]: Done  20 out of  20 | elapsed: 18.7min finished\n"
          ],
          "name": "stderr"
        },
        {
          "output_type": "stream",
          "text": [
            "Running edgar data set\n",
            "Best Accuracy : 0.0050\n",
            "{'vocab_size': 4981, 'num_filters': 32, 'maxlen': 100, 'kernel_size': 3, 'embedding_dim': 50}\n",
            "Test Accuracy : 0.0044\n",
            "\n",
            "\n"
          ],
          "name": "stdout"
        }
      ]
    },
    {
      "cell_type": "markdown",
      "metadata": {
        "id": "kXHO7yn5irf0",
        "colab_type": "text"
      },
      "source": [
        "# Evaluating the performance of different model.\n",
        "\n",
        "1) Below is a simple sequential model with 1 layer.\n"
      ]
    },
    {
      "cell_type": "code",
      "metadata": {
        "id": "dXFZmAjOjpqH",
        "colab_type": "code",
        "outputId": "8558d7f2-3523-4c50-95c0-6c83efe77c19",
        "colab": {
          "base_uri": "https://localhost:8080/",
          "height": 1000
        }
      },
      "source": [
        "from keras.models import Sequential\n",
        "from keras import layers\n",
        "from sklearn.preprocessing import LabelEncoder\n",
        "\n",
        "input_dim = X_train.shape[1]  # Number of features\n",
        "\n",
        "model = Sequential()\n",
        "model.add(layers.Dense(10, input_dim=input_dim, activation='relu'))\n",
        "model.add(layers.Dense(1, activation='softmax'))\n",
        "\n",
        "model.compile(loss='sparse_categorical_crossentropy', \n",
        "                  optimizer='adam', \n",
        "                  metrics=['accuracy'])\n",
        "model.summary()\n",
        "le = LabelEncoder()\n",
        "y_test = le.fit_transform(y_test)\n",
        "y_train =le.fit_transform(y_train)\n",
        "history = model.fit(X_train, y_train,\n",
        "                    epochs=25,\n",
        "                    verbose=True,\n",
        "                    validation_data=(X_test, y_test),\n",
        "                    batch_size=10)\n",
        "loss, accuracy = model.evaluate(X_train, y_train, verbose=False)\n",
        "print(\"Training Accuracy: {}\".format(accuracy))\n",
        "loss, accuracy = model.evaluate(X_test, y_test, verbose=False)\n",
        "print(\"Testing Accuracy: {}\".format(accuracy))"
      ],
      "execution_count": 0,
      "outputs": [
        {
          "output_type": "stream",
          "text": [
            "_________________________________________________________________\n",
            "Layer (type)                 Output Shape              Param #   \n",
            "=================================================================\n",
            "dense_311 (Dense)            (None, 10)                1010      \n",
            "_________________________________________________________________\n",
            "dense_312 (Dense)            (None, 1)                 11        \n",
            "=================================================================\n",
            "Total params: 1,021\n",
            "Trainable params: 1,021\n",
            "Non-trainable params: 0\n",
            "_________________________________________________________________\n",
            "Train on 4778 samples, validate on 1593 samples\n",
            "Epoch 1/25\n",
            "4778/4778 [==============================] - 16s 3ms/step - loss: nan - acc: 0.0067 - val_loss: nan - val_acc: 6.2775e-04\n",
            "Epoch 2/25\n",
            "4778/4778 [==============================] - 3s 613us/step - loss: nan - acc: 0.0067 - val_loss: nan - val_acc: 6.2775e-04\n",
            "Epoch 3/25\n",
            "4778/4778 [==============================] - 3s 616us/step - loss: nan - acc: 0.0067 - val_loss: nan - val_acc: 6.2775e-04\n",
            "Epoch 4/25\n",
            "4778/4778 [==============================] - 3s 612us/step - loss: nan - acc: 0.0067 - val_loss: nan - val_acc: 6.2775e-04\n",
            "Epoch 5/25\n",
            "4778/4778 [==============================] - 3s 614us/step - loss: nan - acc: 0.0067 - val_loss: nan - val_acc: 6.2775e-04\n",
            "Epoch 6/25\n",
            "4778/4778 [==============================] - 3s 620us/step - loss: nan - acc: 0.0067 - val_loss: nan - val_acc: 6.2775e-04\n",
            "Epoch 7/25\n",
            "4778/4778 [==============================] - 3s 618us/step - loss: nan - acc: 0.0067 - val_loss: nan - val_acc: 6.2775e-04\n",
            "Epoch 8/25\n",
            "4778/4778 [==============================] - 3s 614us/step - loss: nan - acc: 0.0067 - val_loss: nan - val_acc: 6.2775e-04\n",
            "Epoch 9/25\n",
            "4778/4778 [==============================] - 3s 614us/step - loss: nan - acc: 0.0067 - val_loss: nan - val_acc: 6.2775e-04\n",
            "Epoch 10/25\n",
            "4778/4778 [==============================] - 3s 613us/step - loss: nan - acc: 0.0067 - val_loss: nan - val_acc: 6.2775e-04\n",
            "Epoch 11/25\n",
            "4778/4778 [==============================] - 3s 615us/step - loss: nan - acc: 0.0067 - val_loss: nan - val_acc: 6.2775e-04\n",
            "Epoch 12/25\n",
            "4778/4778 [==============================] - 3s 613us/step - loss: nan - acc: 0.0067 - val_loss: nan - val_acc: 6.2775e-04\n",
            "Epoch 13/25\n",
            "4778/4778 [==============================] - 3s 640us/step - loss: nan - acc: 0.0067 - val_loss: nan - val_acc: 6.2775e-04\n",
            "Epoch 14/25\n",
            "4778/4778 [==============================] - 3s 635us/step - loss: nan - acc: 0.0067 - val_loss: nan - val_acc: 6.2775e-04\n",
            "Epoch 15/25\n",
            "4778/4778 [==============================] - 3s 635us/step - loss: nan - acc: 0.0067 - val_loss: nan - val_acc: 6.2775e-04\n",
            "Epoch 16/25\n",
            "4778/4778 [==============================] - 3s 632us/step - loss: nan - acc: 0.0067 - val_loss: nan - val_acc: 6.2775e-04\n",
            "Epoch 17/25\n",
            "4778/4778 [==============================] - 3s 617us/step - loss: nan - acc: 0.0067 - val_loss: nan - val_acc: 6.2775e-04\n",
            "Epoch 18/25\n",
            "4778/4778 [==============================] - 3s 612us/step - loss: nan - acc: 0.0067 - val_loss: nan - val_acc: 6.2775e-04\n",
            "Epoch 19/25\n",
            "4778/4778 [==============================] - 3s 613us/step - loss: nan - acc: 0.0067 - val_loss: nan - val_acc: 6.2775e-04\n",
            "Epoch 20/25\n",
            "4778/4778 [==============================] - 3s 611us/step - loss: nan - acc: 0.0067 - val_loss: nan - val_acc: 6.2775e-04\n",
            "Epoch 21/25\n",
            "4778/4778 [==============================] - 3s 624us/step - loss: nan - acc: 0.0067 - val_loss: nan - val_acc: 6.2775e-04\n",
            "Epoch 22/25\n",
            "4778/4778 [==============================] - 3s 619us/step - loss: nan - acc: 0.0067 - val_loss: nan - val_acc: 6.2775e-04\n",
            "Epoch 23/25\n",
            "4778/4778 [==============================] - 3s 618us/step - loss: nan - acc: 0.0067 - val_loss: nan - val_acc: 6.2775e-04\n",
            "Epoch 24/25\n",
            "4778/4778 [==============================] - 3s 616us/step - loss: nan - acc: 0.0067 - val_loss: nan - val_acc: 6.2775e-04\n",
            "Epoch 25/25\n",
            "4778/4778 [==============================] - 3s 607us/step - loss: nan - acc: 0.0067 - val_loss: nan - val_acc: 6.2775e-04\n",
            "Training Accuracy: 0.00669736291647157\n",
            "Testing Accuracy: 0.0006277463904582549\n"
          ],
          "name": "stdout"
        }
      ]
    },
    {
      "cell_type": "code",
      "metadata": {
        "id": "G2WNiWZvvxGu",
        "colab_type": "code",
        "colab": {}
      },
      "source": [
        "from keras.preprocessing.text import Tokenizer\n",
        "from keras.preprocessing.sequence import pad_sequences\n",
        "\n",
        "tokenizer = Tokenizer(num_words=5000)\n",
        "tokenizer.fit_on_texts(sentences_train)\n",
        "\n",
        "X_train = tokenizer.texts_to_sequences(sentences_train)\n",
        "X_test = tokenizer.texts_to_sequences(sentences_test)\n",
        "\n",
        "vocab_size = len(tokenizer.word_index) + 1  # Adding 1 because of reserved 0 index\n",
        "\n",
        "maxlen = 100\n",
        "X_train = pad_sequences(X_train, padding='post', maxlen=maxlen)\n",
        "X_test = pad_sequences(X_test, padding='post', maxlen=maxlen)\n"
      ],
      "execution_count": 0,
      "outputs": []
    },
    {
      "cell_type": "markdown",
      "metadata": {
        "id": "p5qX8g9C5QCB",
        "colab_type": "text"
      },
      "source": [
        "# What Is a Word Embedding?\n",
        "Text is considered a form of sequence data similar to time series data that you would have in weather data or financial data. In the previous BOW model, you have seen how to represent a whole sequence of words as a single feature vector. \n",
        "\n",
        " There are various ways to vectorize text, such as:\n",
        "\n",
        "- Words represented by each word as a vector\n",
        "\n",
        "- Characters represented by each character as a vector\n",
        "\n",
        "- N-grams of words/characters represented as a vector (N-grams are overlapping groups of multiple succeeding words/characters in the text)\n",
        "\n",
        "\n",
        "Below we will use Keras for word embedding as well the he glove word embedding to see if they make a difference to the model."
      ]
    },
    {
      "cell_type": "code",
      "metadata": {
        "id": "kesmo1DPwoDw",
        "colab_type": "code",
        "outputId": "02eefdd3-50cb-4af0-e139-ab9514e6c4ad",
        "colab": {
          "base_uri": "https://localhost:8080/",
          "height": 272
        }
      },
      "source": [
        "from keras.models import Sequential\n",
        "from keras import layers\n",
        "\n",
        "embedding_dim = 50\n",
        "\n",
        "model = Sequential()\n",
        "model.add(layers.Embedding(input_dim=vocab_size, \n",
        "                           output_dim=embedding_dim, \n",
        "                           input_length=maxlen))\n",
        "model.add(layers.Flatten())\n",
        "model.add(layers.Dense(10, activation='relu'))\n",
        "model.add(layers.Dense(1, activation='softmax'))\n",
        "model.compile(optimizer='adam',\n",
        "              loss='sparse_categorical_crossentropy',\n",
        "              metrics=['accuracy'])\n",
        "model.summary()"
      ],
      "execution_count": 0,
      "outputs": [
        {
          "output_type": "stream",
          "text": [
            "_________________________________________________________________\n",
            "Layer (type)                 Output Shape              Param #   \n",
            "=================================================================\n",
            "embedding_149 (Embedding)    (None, 100, 50)           249050    \n",
            "_________________________________________________________________\n",
            "flatten_1 (Flatten)          (None, 5000)              0         \n",
            "_________________________________________________________________\n",
            "dense_313 (Dense)            (None, 10)                50010     \n",
            "_________________________________________________________________\n",
            "dense_314 (Dense)            (None, 1)                 11        \n",
            "=================================================================\n",
            "Total params: 299,071\n",
            "Trainable params: 299,071\n",
            "Non-trainable params: 0\n",
            "_________________________________________________________________\n"
          ],
          "name": "stdout"
        }
      ]
    },
    {
      "cell_type": "code",
      "metadata": {
        "id": "lpdt4ts9w2Xa",
        "colab_type": "code",
        "outputId": "f3263bc8-a779-4720-f060-b59f766b2186",
        "colab": {
          "base_uri": "https://localhost:8080/",
          "height": 371
        }
      },
      "source": [
        "history = model.fit(X_train, y_train,\n",
        "                    epochs=20,\n",
        "                    verbose=False,\n",
        "                    validation_data=(X_test, y_test),\n",
        "                    batch_size=10)\n",
        "le = LabelEncoder()\n",
        "y_test = le.fit_transform(y_test)\n",
        "y_train =le.fit_transform(y_train)\n",
        "loss, accuracy = model.evaluate(X_train, y_train, verbose=False)\n",
        "print(\"Training Accuracy: {:.4f}\".format(accuracy))\n",
        "loss, accuracy = model.evaluate(X_test, y_test, verbose=False)\n",
        "print(\"Testing Accuracy:  {:.4f}\".format(accuracy))\n",
        "plot_history(history)"
      ],
      "execution_count": 0,
      "outputs": [
        {
          "output_type": "stream",
          "text": [
            "Training Accuracy: 0.0067\n",
            "Testing Accuracy:  0.0006\n"
          ],
          "name": "stdout"
        },
        {
          "output_type": "display_data",
          "data": {
            "image/png": "[encoded data removed]",
            "text/plain": [
              "<Figure size 864x360 with 2 Axes>"
            ]
          },
          "metadata": {
            "tags": []
          }
        }
      ]
    },
    {
      "cell_type": "code",
      "metadata": {
        "id": "VeELk9lnx3y5",
        "colab_type": "code",
        "outputId": "f0c6f25c-9f80-4b65-f56b-3ba9dcbef354",
        "colab": {
          "base_uri": "https://localhost:8080/",
          "height": 272
        }
      },
      "source": [
        "from keras.models import Sequential\n",
        "from keras import layers\n",
        "\n",
        "embedding_dim = 50\n",
        "\n",
        "model = Sequential()\n",
        "model.add(layers.Embedding(input_dim=vocab_size, \n",
        "                           output_dim=embedding_dim, \n",
        "                           input_length=maxlen))\n",
        "model.add(layers.GlobalMaxPool1D())\n",
        "model.add(layers.Dense(10, activation='relu'))\n",
        "model.add(layers.Dense(1, activation='softmax'))\n",
        "model.compile(optimizer='adam',\n",
        "              loss='sparse_categorical_crossentropy',\n",
        "              metrics=['accuracy'])\n",
        "model.summary()"
      ],
      "execution_count": 0,
      "outputs": [
        {
          "output_type": "stream",
          "text": [
            "_________________________________________________________________\n",
            "Layer (type)                 Output Shape              Param #   \n",
            "=================================================================\n",
            "embedding_150 (Embedding)    (None, 100, 50)           249050    \n",
            "_________________________________________________________________\n",
            "global_max_pooling1d_149 (Gl (None, 50)                0         \n",
            "_________________________________________________________________\n",
            "dense_315 (Dense)            (None, 10)                510       \n",
            "_________________________________________________________________\n",
            "dense_316 (Dense)            (None, 1)                 11        \n",
            "=================================================================\n",
            "Total params: 249,571\n",
            "Trainable params: 249,571\n",
            "Non-trainable params: 0\n",
            "_________________________________________________________________\n"
          ],
          "name": "stdout"
        }
      ]
    },
    {
      "cell_type": "code",
      "metadata": {
        "id": "mkd3RxPmyRV6",
        "colab_type": "code",
        "outputId": "87daa74e-6fa6-4981-e454-16d8cef34ea5",
        "colab": {
          "base_uri": "https://localhost:8080/",
          "height": 371
        }
      },
      "source": [
        "le = LabelEncoder()\n",
        "y_test = le.fit_transform(y_test)\n",
        "y_train =le.fit_transform(y_train)\n",
        "history = model.fit(X_train, y_train,\n",
        "                    epochs=50,\n",
        "                    verbose=False,\n",
        "                    validation_data=(X_test, y_test),\n",
        "                    batch_size=10)\n",
        "loss, accuracy = model.evaluate(X_train, y_train, verbose=False)\n",
        "print(\"Training Accuracy: {:.4f}\".format(accuracy))\n",
        "loss, accuracy = model.evaluate(X_test, y_test, verbose=False)\n",
        "print(\"Testing Accuracy:  {:.4f}\".format(accuracy))\n",
        "plot_history(history)"
      ],
      "execution_count": 0,
      "outputs": [
        {
          "output_type": "stream",
          "text": [
            "Training Accuracy: 0.0067\n",
            "Testing Accuracy:  0.0006\n"
          ],
          "name": "stdout"
        },
        {
          "output_type": "display_data",
          "data": {
            "image/png": "[encoded data removed]",
            "text/plain": [
              "<Figure size 864x360 with 2 Axes>"
            ]
          },
          "metadata": {
            "tags": []
          }
        }
      ]
    },
    {
      "cell_type": "code",
      "metadata": {
        "id": "8H3uUJpO051x",
        "colab_type": "code",
        "colab": {}
      },
      "source": [
        "import numpy as np\n",
        "\n",
        "def create_embedding_matrix(filepath, word_index, embedding_dim):\n",
        "    vocab_size = len(word_index) + 1  # Adding again 1 because of reserved 0 index\n",
        "    embedding_matrix = np.zeros((vocab_size, embedding_dim))\n",
        "\n",
        "    with open(filepath) as f:\n",
        "        for line in f:\n",
        "            word, *vector = line.split()\n",
        "            if word in word_index:\n",
        "                idx = word_index[word] \n",
        "                embedding_matrix[idx] = np.array(\n",
        "                    vector, dtype=np.float32)[:embedding_dim]\n",
        "\n",
        "    return embedding_matrix"
      ],
      "execution_count": 0,
      "outputs": []
    },
    {
      "cell_type": "code",
      "metadata": {
        "id": "3Woch5hb08cW",
        "colab_type": "code",
        "colab": {}
      },
      "source": [
        "embedding_dim = 100\n",
        "embedding_matrix = create_embedding_matrix(\n",
        "  '/content/drive/My Drive/final-project/raw/glove.6B.100d.txt',\n",
        "   tokenizer.word_index, embedding_dim)"
      ],
      "execution_count": 0,
      "outputs": []
    },
    {
      "cell_type": "code",
      "metadata": {
        "id": "NfMs_gLX1mWx",
        "colab_type": "code",
        "outputId": "07ebde17-e124-454e-c0dc-a6990f920c29",
        "colab": {
          "base_uri": "https://localhost:8080/",
          "height": 272
        }
      },
      "source": [
        "model = Sequential()\n",
        "model.add(layers.Embedding(vocab_size, embedding_dim, \n",
        "                           weights=[embedding_matrix], \n",
        "                           input_length=maxlen, \n",
        "                           trainable=False))\n",
        "model.add(layers.GlobalMaxPool1D())\n",
        "model.add(layers.Dense(10, activation='relu'))\n",
        "model.add(layers.Dense(1, activation='softmax'))\n",
        "model.compile(optimizer='adam',\n",
        "              loss='sparse_categorical_crossentropy',\n",
        "              metrics=['accuracy'])\n",
        "model.summary()"
      ],
      "execution_count": 0,
      "outputs": [
        {
          "output_type": "stream",
          "text": [
            "_________________________________________________________________\n",
            "Layer (type)                 Output Shape              Param #   \n",
            "=================================================================\n",
            "embedding_152 (Embedding)    (None, 100, 100)          498100    \n",
            "_________________________________________________________________\n",
            "global_max_pooling1d_151 (Gl (None, 100)               0         \n",
            "_________________________________________________________________\n",
            "dense_319 (Dense)            (None, 10)                1010      \n",
            "_________________________________________________________________\n",
            "dense_320 (Dense)            (None, 1)                 11        \n",
            "=================================================================\n",
            "Total params: 499,121\n",
            "Trainable params: 1,021\n",
            "Non-trainable params: 498,100\n",
            "_________________________________________________________________\n"
          ],
          "name": "stdout"
        }
      ]
    },
    {
      "cell_type": "code",
      "metadata": {
        "id": "VrWvNapp1p1p",
        "colab_type": "code",
        "outputId": "43e0153e-9983-4e43-ab4a-8cd36f4e0a9e",
        "colab": {
          "base_uri": "https://localhost:8080/",
          "height": 371
        }
      },
      "source": [
        "le = LabelEncoder()\n",
        "y_test = le.fit_transform(y_test)\n",
        "y_train =le.fit_transform(y_train)\n",
        "history = model.fit(X_train, y_train,\n",
        "                    epochs=25,\n",
        "                    verbose=False,\n",
        "                    validation_data=(X_test, y_test),\n",
        "                    batch_size=10)\n",
        "loss, accuracy = model.evaluate(X_train, y_train, verbose=False)\n",
        "print(\"Training Accuracy: {:.4f}\".format(accuracy))\n",
        "loss, accuracy = model.evaluate(X_test, y_test, verbose=False)\n",
        "print(\"Testing Accuracy:  {:.4f}\".format(accuracy))\n",
        "plot_history(history)"
      ],
      "execution_count": 0,
      "outputs": [
        {
          "output_type": "stream",
          "text": [
            "Training Accuracy: 0.0067\n",
            "Testing Accuracy:  0.0006\n"
          ],
          "name": "stdout"
        },
        {
          "output_type": "display_data",
          "data": {
            "image/png": "[encoded data removed]",
            "text/plain": [
              "<Figure size 864x360 with 2 Axes>"
            ]
          },
          "metadata": {
            "tags": []
          }
        }
      ]
    },
    {
      "cell_type": "code",
      "metadata": {
        "id": "s4AwWSFQ240R",
        "colab_type": "code",
        "outputId": "cc8f9cd8-bad4-4042-954a-6b4da80874d1",
        "colab": {
          "base_uri": "https://localhost:8080/",
          "height": 272
        }
      },
      "source": [
        "model = Sequential()\n",
        "model.add(layers.Embedding(vocab_size, embedding_dim, \n",
        "                           weights=[embedding_matrix], \n",
        "                           input_length=maxlen, \n",
        "                           trainable=True))\n",
        "model.add(layers.GlobalMaxPool1D())\n",
        "model.add(layers.Dense(10, activation='relu'))\n",
        "model.add(layers.Dense(1, activation='softmax'))\n",
        "model.compile(optimizer='adam',\n",
        "              loss='sparse_categorical_crossentropy',\n",
        "              metrics=['accuracy'])\n",
        "model.summary()"
      ],
      "execution_count": 0,
      "outputs": [
        {
          "output_type": "stream",
          "text": [
            "_________________________________________________________________\n",
            "Layer (type)                 Output Shape              Param #   \n",
            "=================================================================\n",
            "embedding_153 (Embedding)    (None, 100, 100)          498100    \n",
            "_________________________________________________________________\n",
            "global_max_pooling1d_152 (Gl (None, 100)               0         \n",
            "_________________________________________________________________\n",
            "dense_321 (Dense)            (None, 10)                1010      \n",
            "_________________________________________________________________\n",
            "dense_322 (Dense)            (None, 1)                 11        \n",
            "=================================================================\n",
            "Total params: 499,121\n",
            "Trainable params: 499,121\n",
            "Non-trainable params: 0\n",
            "_________________________________________________________________\n"
          ],
          "name": "stdout"
        }
      ]
    },
    {
      "cell_type": "code",
      "metadata": {
        "id": "T7Uz9Eso29Vp",
        "colab_type": "code",
        "outputId": "89236ea5-866e-420a-f43c-d75a4aafdaa1",
        "colab": {
          "base_uri": "https://localhost:8080/",
          "height": 371
        }
      },
      "source": [
        "history = model.fit(X_train, y_train,\n",
        "                    epochs=50,\n",
        "                    verbose=False,\n",
        "                    validation_data=(X_test, y_test),\n",
        "                    batch_size=10)\n",
        "loss, accuracy = model.evaluate(X_train, y_train, verbose=False)\n",
        "print(\"Training Accuracy: {:.4f}\".format(accuracy))\n",
        "loss, accuracy = model.evaluate(X_test, y_test, verbose=False)\n",
        "print(\"Testing Accuracy:  {:.4f}\".format(accuracy))\n",
        "plot_history(history)"
      ],
      "execution_count": 0,
      "outputs": [
        {
          "output_type": "stream",
          "text": [
            "Training Accuracy: 0.0067\n",
            "Testing Accuracy:  0.0006\n"
          ],
          "name": "stdout"
        },
        {
          "output_type": "display_data",
          "data": {
            "image/png": "[encoded data removed]",
            "text/plain": [
              "<Figure size 864x360 with 2 Axes>"
            ]
          },
          "metadata": {
            "tags": []
          }
        }
      ]
    }
  ]
}