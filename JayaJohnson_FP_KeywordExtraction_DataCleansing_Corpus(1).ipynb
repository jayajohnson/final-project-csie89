{
  "nbformat": 4,
  "nbformat_minor": 0,
  "metadata": {
    "colab": {
      "name": "JayaJohnson-FP-KeywordExtraction-DataCleansing-Corpus(1).ipynb",
      "version": "0.3.2",
      "provenance": [],
      "toc_visible": true
    },
    "kernelspec": {
      "name": "python3",
      "display_name": "Python 3"
    }
  },
  "cells": [
    {
      "cell_type": "code",
      "metadata": {
        "id": "fgw0vDKyCO_k",
        "colab_type": "code",
        "colab": {}
      },
      "source": [
        "from google.colab import drive\n",
        "drive.mount('/content/drive')"
      ],
      "execution_count": 0,
      "outputs": []
    },
    {
      "cell_type": "markdown",
      "metadata": {
        "id": "z901z3qJ-n0J",
        "colab_type": "text"
      },
      "source": [
        "## Data Preprocessing\n",
        "The cells below preprocess the data.\n",
        "\n",
        "Prerequisites for the data processing to work.\n",
        "\n",
        "1) Create a folder in you google drive final-project/raw/<quartername>\n",
        "  \n",
        "2) Download the zip fles from the following URL\n",
        "  https://www.sec.gov/dera/data/financial-statement-data-sets.html\n",
        "  \n",
        "   For the purpose of this project I have used the last 4 quarters.\n",
        "  \n",
        "##Step 1.  Extract the raw data files."
      ]
    },
    {
      "cell_type": "code",
      "metadata": {
        "id": "WDt8Ou3wGkuS",
        "colab_type": "code",
        "colab": {}
      },
      "source": [
        "import zipfile\n",
        "\n",
        "with zipfile.ZipFile('/content/drive/My Drive/final-project/raw/2018q3_notes.zip', 'r') as zip_ref:\n",
        "    zip_ref.extractall('/content/drive/My Drive/final-project/raw/extracted/2018q3')\n",
        "with zipfile.ZipFile('/content/drive/My Drive/final-project/raw/2018q4_notes.zip', 'r') as zip_ref:\n",
        "    zip_ref.extractall('/content/drive/My Drive/final-project/raw/extracted/2018q4')\n",
        "with zipfile.ZipFile('/content/drive/My Drive/final-project/raw/2019q1_notes.zip', 'r') as zip_ref:\n",
        "    zip_ref.extractall('/content/drive/My Drive/final-project/raw/extracted/2019q1')\n",
        "with zipfile.ZipFile('/content/drive/My Drive/final-project/raw/2019q2_notes.zip', 'r') as zip_ref:\n",
        "    zip_ref.extractall('/content/drive/My Drive/final-project/raw/extracted/2019q2')"
      ],
      "execution_count": 0,
      "outputs": []
    },
    {
      "cell_type": "code",
      "metadata": {
        "id": "Ula5XGO9Qxbe",
        "colab_type": "code",
        "outputId": "2b8906c2-4ab6-4398-f677-0f794099b6e0",
        "colab": {
          "base_uri": "https://localhost:8080/",
          "height": 54
        }
      },
      "source": [
        "with open(\"/content/drive/My Drive/final-project/raw/extracted/2018q3/txt.tsv\") as myfile:\n",
        "    head = [next(myfile) for x in range(10)]\n",
        "print(head)"
      ],
      "execution_count": 0,
      "outputs": [
        {
          "output_type": "stream",
          "text": [
            "['adsh\\ttag\\tversion\\tddate\\tqtrs\\tiprx\\tlang\\tdcml\\tdurp\\tdatp\\tdimh\\tdimn\\tcoreg\\tescaped\\tsrclen\\ttxtlen\\tfootnote\\tfootlen\\tcontext\\tvalue\\n', '0001213900-18-008637\\tIncomeTaxPreferentialRateDescription\\t0001213900-18-008637\\t20171231\\t4\\t0\\ten-US\\t32767\\t0.01095891\\t0.0\\t0xf7f18cbab3149e06b113a7cc4ac14319\\t1\\t\\t0\\t357\\t357\\t\\t0\\tContext_FYE_01_Jan_2017T00_00_00_TO_31_Dec_2017T00_00_00_IncomeTaxAuthorityAxis_BorqsBeijingMember\\tBORQS Beijing was qualified for a High and New Technology Enterprises (\"HNTE\") since 2012 and is eligible for a 15% preferential tax rate from 2012 to 2014. In July 2015, BORQS Beijing obtained a new HNTE certificate, which will expire in July 2018. For the years ended December 31, 2015, 2016 and 2017, BORQS Beijing enjoyed a preferential tax rate of 15%.\\n', '0001213900-18-008637\\tIncomeTaxPreferentialRateDescription\\t0001213900-18-008637\\t20171231\\t4\\t0\\ten-US\\t32767\\t0.01095891\\t0.0\\t0xf9d8f3c6bb34f4007d5655734f5ee93a\\t1\\t\\t0\\t605\\t605\\t\\t0\\tContext_FYE_01_Jan_2017T00_00_00_TO_31_Dec_2017T00_00_00_IncomeTaxAuthorityAxis_YuantelTelecomMember\\tYuantel Telecom was qualified for a High and New Technology Enterprises (\"HNTE\") since 2011 and is eligible for a 15% preferential tax rate from 2011 to 2013. In October 2014, Yuantel Telecom obtained a new HNTE certificate, which expired in October 2017. Yuantel Telecom has successfully renewed the HNTE certificate in December 2017 with effective term of three years. In accordance with the PRC Income Tax Laws, an enterprise awarded with the HNTE status may enjoy a reduced EIT rate of 15%. For the years ended December 31, 2015, 2016 and 2017, Yuantel Telecom enjoyed a preferential tax rate of 15 %.\\n', '0001193125-18-212317\\tAssetImpairmentPolicyTextBlock\\t0001193125-18-212317\\t20180331\\t4\\t0\\ten-US\\t32767\\t-0.054793835\\t0.0\\t0x00000000\\t0\\t\\t1\\t2158\\t1503\\t\\t0\\teol_PE376591--1820-F0002_STD_371_20180331_0\\t(l) Impairment of long-lived assets: The Company periodically reviews the estimated useful lives of its depreciable assets and changes in useful lives are made on a prospective basis unless factors indicate the carrying amounts of the assets may not be recoverable and an impairment write-down is necessary. However, the Company will review its long-lived assets for impairment once events or changes in circumstances indicate that the carrying amount of the asset may not be recoverable. An impairment loss would be recognized when the estimated undiscounted future cash flows expected to result from the use of an asset and its eventual disposition is less than its carrying value. Measurement of an impairment loss for such long-lived assets would be based on the difference between the carrying value and the fair value of the asset, with fair value being determined based upon discounted cash flows or appraised values, depending on the nature of the asset. Long-lived assets to be disposed of are reported at the lower of the carrying amount or fair value less cost to sell. During fiscal 2018, the Company recorded non-cash impairment charges on long-lived assets of $2.2 million. These charges are related to the leasehold improvements at a retail location due to its projected operating performance and certain software costs associated with a decision to modify the scope of the implementation of the Companys new ERP system No impairment charges were recorded in fiscal 2017 and fiscal 2016.\\n', '0001213900-18-008948\\tDepreciationOnPropertyPlantAndEquipmentTableTextBlock\\t0001213900-18-008948\\t20171231\\t4\\t0\\ten-US\\t32767\\t0.01095891\\t0.0\\t0x00000000\\t0\\t\\t1\\t18336\\t236\\t\\t0\\tContext_FYE_01_Jan_2017T00_00_00_TO_31_Dec_2017T00_00_00\\tFor the years ended December 31, 2015 2016 2017 US$ US$ US$ Cost of revenues 472 347 140 Sales and marketing expenses 54 15 13 General and administrative expenses 144 277 190 Research and development expenses 701 372 158 1,371 1,011 501\\n', '0001213900-18-008948\\tDepreciationOnPropertyPlantAndEquipmentTableTextBlock\\t0001213900-18-008948\\t20180331\\t1\\t0\\ten-US\\t32767\\t0.024658024\\t0.0\\t0x00000000\\t0\\t\\t1\\t8061\\t193\\t\\t0\\tContext_3ME_01_Jan_2018T00_00_00_TO_31_Mar_2018T00_00_00\\tThree Months Ended March 31, 2017 2018 US$ US$ Cost of revenues 41 48 Sales and marketing expenses 2 3 General and administrative expenses 72 18 Research and development expenses 168 70 283 139\\n', '0001213900-18-008948\\tOperatingLossCarryforwardsExpirationTerm\\t0001213900-18-008948\\t20171231\\t4\\t0\\ten-US\\t32767\\t0.01095891\\t0.0\\t0xbc4bd01bbe701f7089913b4ab269e88e\\t1\\t\\t0\\t16\\t16\\t\\t0\\tContext_FYE_01_Jan_2017T00_00_00_TO_31_Dec_2017T00_00_00_IncomeTaxAuthorityAxis_HkSubsidiaryMember\\tWill not expire.\\n', '0001213900-18-008948\\tOperatingLossCarryforwardsExpirationTerm\\t0001213900-18-008948\\t20171231\\t4\\t0\\ten-US\\t32767\\t0.01095891\\t0.0\\t0x82b3030d5e6f98d0fe13ae8bbbe3b3e7\\t1\\t\\t0\\t24\\t24\\t\\t0\\tContext_FYE_01_Jan_2017T00_00_00_TO_31_Dec_2017T00_00_00_IncomeTaxAuthorityAxis_PrcSubsidiaryMember\\tExpire from 2018 to 2022\\n', '0001213900-18-008948\\tOperatingLossCarryforwardsExpirationTerm\\t0001213900-18-008948\\t20180331\\t1\\t0\\ten-US\\t32767\\t0.024658024\\t0.0\\t0xbc4bd01bbe701f7089913b4ab269e88e\\t1\\t\\t0\\t16\\t16\\t\\t0\\tContext_3ME_01_Jan_2018T00_00_00_TO_31_Mar_2018T00_00_00_IncomeTaxAuthorityAxis_HkSubsidiaryMember\\tWill not expire.\\n', '0001213900-18-008948\\tOperatingLossCarryforwardsExpirationTerm\\t0001213900-18-008948\\t20180331\\t1\\t0\\ten-US\\t32767\\t0.024658024\\t0.0\\t0x82b3030d5e6f98d0fe13ae8bbbe3b3e7\\t1\\t\\t0\\t24\\t24\\t\\t0\\tContext_3ME_01_Jan_2018T00_00_00_TO_31_Mar_2018T00_00_00_IncomeTaxAuthorityAxis_PrcSubsidiaryMember\\tExpire from 2018 to 2022\\n']\n"
          ],
          "name": "stdout"
        }
      ]
    },
    {
      "cell_type": "code",
      "metadata": {
        "id": "DAJ0OrvDr_bf",
        "colab_type": "code",
        "outputId": "dd025016-bc1e-4f86-cb73-29547b937c96",
        "colab": {
          "base_uri": "https://localhost:8080/",
          "height": 85
        }
      },
      "source": [
        "import pandas as pd\n",
        "\n",
        "#folders = ['2018q3/','2018q4/','2019q1/','2019q2/']\n",
        "folders = ['2018q3/']\n",
        "extract_folder = '/content/drive/My Drive/final-project/raw/extracted/'\n",
        "context_file = 'txt.tsv'\n",
        "\n",
        "filenames = []\n",
        "for folder in folders:\n",
        "  filename = extract_folder + folder + context_file\n",
        "  filenames.append(filename)\n",
        "print(filenames)\n",
        "  \n",
        "dfs = pd.concat([pd.read_csv(f, sep='\\t') for f in filenames], ignore_index = True)\n",
        "    \n",
        "print(dfs.columns.values)"
      ],
      "execution_count": 0,
      "outputs": [
        {
          "output_type": "stream",
          "text": [
            "['/content/drive/My Drive/final-project/raw/extracted/2018q3/txt.tsv']\n",
            "['adsh' 'tag' 'version' 'ddate' 'qtrs' 'iprx' 'lang' 'dcml' 'durp' 'datp'\n",
            " 'dimh' 'dimn' 'coreg' 'escaped' 'srclen' 'txtlen' 'footnote' 'footlen'\n",
            " 'context' 'value']\n"
          ],
          "name": "stdout"
        }
      ]
    },
    {
      "cell_type": "markdown",
      "metadata": {
        "id": "d5wIh0OoNYP2",
        "colab_type": "text"
      },
      "source": [
        "## Step 2 gather some statistics on the data to further cleanse and reduce noise"
      ]
    },
    {
      "cell_type": "code",
      "metadata": {
        "id": "OuGMaSL-60Ha",
        "colab_type": "code",
        "outputId": "300f960b-b85c-426d-a938-a13af8b1b75e",
        "colab": {
          "base_uri": "https://localhost:8080/",
          "height": 204
        }
      },
      "source": [
        "##print(dfs.loc[: , \"value\"])\n",
        "#Fetch wordcount for each content value\n",
        "dfs['word_count'] = dfs['value'].apply(lambda x: len(str(x).split(\" \")))\n",
        "dfs[['value','word_count']].head()"
      ],
      "execution_count": 0,
      "outputs": [
        {
          "output_type": "execute_result",
          "data": {
            "text/html": [
              "<div>\n",
              "<style scoped>\n",
              "    .dataframe tbody tr th:only-of-type {\n",
              "        vertical-align: middle;\n",
              "    }\n",
              "\n",
              "    .dataframe tbody tr th {\n",
              "        vertical-align: top;\n",
              "    }\n",
              "\n",
              "    .dataframe thead th {\n",
              "        text-align: right;\n",
              "    }\n",
              "</style>\n",
              "<table border=\"1\" class=\"dataframe\">\n",
              "  <thead>\n",
              "    <tr style=\"text-align: right;\">\n",
              "      <th></th>\n",
              "      <th>value</th>\n",
              "      <th>word_count</th>\n",
              "    </tr>\n",
              "  </thead>\n",
              "  <tbody>\n",
              "    <tr>\n",
              "      <th>0</th>\n",
              "      <td>BORQS Beijing was qualified for a High and New...</td>\n",
              "      <td>62</td>\n",
              "    </tr>\n",
              "    <tr>\n",
              "      <th>1</th>\n",
              "      <td>Yuantel Telecom was qualified for a High and N...</td>\n",
              "      <td>102</td>\n",
              "    </tr>\n",
              "    <tr>\n",
              "      <th>2</th>\n",
              "      <td>(l) Impairment of long-lived assets: The Compa...</td>\n",
              "      <td>240</td>\n",
              "    </tr>\n",
              "    <tr>\n",
              "      <th>3</th>\n",
              "      <td>For the years ended December 31, 2015 2016 201...</td>\n",
              "      <td>42</td>\n",
              "    </tr>\n",
              "    <tr>\n",
              "      <th>4</th>\n",
              "      <td>Three Months Ended March 31, 2017 2018 US$ US$...</td>\n",
              "      <td>34</td>\n",
              "    </tr>\n",
              "  </tbody>\n",
              "</table>\n",
              "</div>"
            ],
            "text/plain": [
              "                                               value  word_count\n",
              "0  BORQS Beijing was qualified for a High and New...          62\n",
              "1  Yuantel Telecom was qualified for a High and N...         102\n",
              "2  (l) Impairment of long-lived assets: The Compa...         240\n",
              "3  For the years ended December 31, 2015 2016 201...          42\n",
              "4  Three Months Ended March 31, 2017 2018 US$ US$...          34"
            ]
          },
          "metadata": {
            "tags": []
          },
          "execution_count": 5
        }
      ]
    },
    {
      "cell_type": "code",
      "metadata": {
        "id": "bOp0_8p38DCV",
        "colab_type": "code",
        "outputId": "cc11d4da-e00e-4295-85e1-2d3f9c1c83d3",
        "colab": {
          "base_uri": "https://localhost:8080/",
          "height": 170
        }
      },
      "source": [
        "##Descriptive statistics of word counts\n",
        "dfs.word_count.describe()"
      ],
      "execution_count": 0,
      "outputs": [
        {
          "output_type": "execute_result",
          "data": {
            "text/plain": [
              "count    455141.000000\n",
              "mean         96.609286\n",
              "std         120.663369\n",
              "min           1.000000\n",
              "25%           1.000000\n",
              "50%          40.000000\n",
              "75%         167.000000\n",
              "max         666.000000\n",
              "Name: word_count, dtype: float64"
            ]
          },
          "metadata": {
            "tags": []
          },
          "execution_count": 6
        }
      ]
    },
    {
      "cell_type": "code",
      "metadata": {
        "id": "tkkNHzBE8RBx",
        "colab_type": "code",
        "outputId": "e4ce4943-7872-4e85-9c7b-87dc977931f3",
        "colab": {
          "base_uri": "https://localhost:8080/",
          "height": 374
        }
      },
      "source": [
        "#Identify common words\n",
        "import pandas\n",
        "#Identify common words\n",
        "freq = pandas.Series(''.join(map(str,dfs['value'])).split()).value_counts()[:20]\n",
        "freq"
      ],
      "execution_count": 0,
      "outputs": [
        {
          "output_type": "execute_result",
          "data": {
            "text/plain": [
              "the        1874070\n",
              "of         1466463\n",
              "$          1254879\n",
              "and        1206969\n",
              "to          698295\n",
              "in          591267\n",
              ")           498098\n",
              "for         440268\n",
              "2018        361920\n",
              "a           356613\n",
              "June        350656\n",
              "30,         345073\n",
              "The         343280\n",
              "as          295407\n",
              "on          271064\n",
              "2017        269819\n",
              "are         249429\n",
              "Company     245354\n",
              "is          239585\n",
              "or          208053\n",
              "dtype: int64"
            ]
          },
          "metadata": {
            "tags": []
          },
          "execution_count": 7
        }
      ]
    },
    {
      "cell_type": "code",
      "metadata": {
        "id": "sP_OCZUsMKmo",
        "colab_type": "code",
        "colab": {}
      },
      "source": [
        "#Identify uncommon words\n",
        "freq1 =  pandas.Series(''.join(map(str,dfs['value'])).split()).value_counts()[:-20]\n",
        "freq1"
      ],
      "execution_count": 0,
      "outputs": []
    },
    {
      "cell_type": "markdown",
      "metadata": {
        "id": "Bbdbx90mNXFg",
        "colab_type": "text"
      },
      "source": [
        "# Pre Processing the text.\n",
        "Now that we have the basic stats lets do some pre processing to remove noise and normalize the data.Data components that are redundant to the core text analytics can be considered as noise."
      ]
    },
    {
      "cell_type": "code",
      "metadata": {
        "id": "FCqBURD6PvKE",
        "colab_type": "code",
        "outputId": "bdf549a8-f116-4fb3-ccc8-e6c377aaba47",
        "colab": {
          "base_uri": "https://localhost:8080/",
          "height": 85
        }
      },
      "source": [
        "import nltk\n",
        "import re\n",
        "nltk.download('wordnet')\n",
        "from nltk.stem.porter import PorterStemmer\n",
        "from nltk.stem.wordnet import WordNetLemmatizer\n",
        "nltk.download('stopwords')\n",
        "from nltk.corpus import stopwords\n",
        "from nltk.stem.porter import PorterStemmer\n",
        "from nltk.tokenize import RegexpTokenizer \n"
      ],
      "execution_count": 0,
      "outputs": [
        {
          "output_type": "stream",
          "text": [
            "[nltk_data] Downloading package wordnet to /root/nltk_data...\n",
            "[nltk_data]   Unzipping corpora/wordnet.zip.\n",
            "[nltk_data] Downloading package stopwords to /root/nltk_data...\n",
            "[nltk_data]   Unzipping corpora/stopwords.zip.\n"
          ],
          "name": "stdout"
        }
      ]
    },
    {
      "cell_type": "code",
      "metadata": {
        "id": "stQj8_RIV-22",
        "colab_type": "code",
        "colab": {}
      },
      "source": [
        "##Creating a list of stop words and adding custom stopwords\n",
        "stop_words = set(stopwords.words(\"english\"))\n",
        "##Creating a list of custom stopwords\n",
        "new_words = ['Jan', 'Janurary', 'Feb', 'February', 'March', 'April', 'May', 'Jun', 'June', 'July',\n",
        "            'Aug', 'August', 'Sept', 'September', 'Oct', 'October', 'Nov', 'November', 'Dec', 'December', \n",
        "             'Month', 'Ended', 'Ending', 'Three', 'Period']\n",
        "stop_words = stop_words.union(new_words)"
      ],
      "execution_count": 0,
      "outputs": []
    },
    {
      "cell_type": "code",
      "metadata": {
        "id": "814Ag-fWWRWL",
        "colab_type": "code",
        "colab": {}
      },
      "source": [
        "#Build the corpus and save it.\n",
        "corpus = []\n",
        "for i in range(0, 5000):\n",
        "    #Remove punctuations\n",
        "    text = re.sub('[^a-zA-Z]', ' ', str(dfs['value'][i]))\n",
        "    \n",
        "    #Convert to lowercase\n",
        "    text = text.lower()\n",
        "    \n",
        "    #remove tags\n",
        "    text=re.sub(\"&lt;/?.*?&gt;\",\" &lt;&gt; \",text)\n",
        "    \n",
        "    # remove special characters and digits\n",
        "    text=re.sub(\"(\\\\d|\\\\W)+\",\" \",text)\n",
        "    \n",
        "    ##Convert to list from string\n",
        "    text = text.split()\n",
        "    \n",
        "    ##Stemming\n",
        "    ps=PorterStemmer()\n",
        "    #Lemmatisation\n",
        "    lem = WordNetLemmatizer()\n",
        "    text = [lem.lemmatize(word) for word in text if not word in  \n",
        "            stop_words]\n",
        "    text = [ word for word in text if len(word) > 3 ]\n",
        "    if len(text) > 0:\n",
        "      text = \" \".join(text)\n",
        "      corpus.append(text)"
      ],
      "execution_count": 0,
      "outputs": []
    },
    {
      "cell_type": "code",
      "metadata": {
        "id": "JfqmSTn9YpyZ",
        "colab_type": "code",
        "outputId": "e2015833-42df-4307-eb69-0c516d938a46",
        "colab": {
          "base_uri": "https://localhost:8080/",
          "height": 1000
        }
      },
      "source": [
        "#View corpus item\n",
        "corpus[:100]"
      ],
      "execution_count": 0,
      "outputs": [
        {
          "output_type": "execute_result",
          "data": {
            "text/plain": [
              "['borqs beijing qualified high technology enterprise hnte since eligible preferential rate july borqs beijing obtained hnte certificate expire july year ended december borqs beijing enjoyed preferential rate',\n",
              " 'yuantel telecom qualified high technology enterprise hnte since eligible preferential rate october yuantel telecom obtained hnte certificate expired october yuantel telecom successfully renewed hnte certificate december effective term three year accordance income enterprise awarded hnte status enjoy reduced rate year ended december yuantel telecom enjoyed preferential rate',\n",
              " 'impairment long lived asset company periodically review estimated useful life depreciable asset change useful life made prospective basis unless factor indicate carrying amount asset recoverable impairment write necessary however company review long lived asset impairment event change circumstance indicate carrying amount asset recoverable impairment loss would recognized estimated undiscounted future cash flow expected result asset eventual disposition carrying value measurement impairment loss long lived asset would based difference carrying value fair value asset fair value determined based upon discounted cash flow appraised value depending nature asset long lived asset disposed reported lower carrying amount fair value cost sell fiscal company recorded cash impairment charge long lived asset million charge related leasehold improvement retail location projected operating performance certain software cost associated decision modify scope implementation company system impairment charge recorded fiscal fiscal',\n",
              " 'year ended december cost revenue sale marketing expense general administrative expense research development expense',\n",
              " 'three month ended march cost revenue sale marketing expense general administrative expense research development expense',\n",
              " 'expire',\n",
              " 'expire',\n",
              " 'expire',\n",
              " 'expire',\n",
              " 'stock plan march company adopted equity incentive plan plan plan replaces company prior equity incentive plan plan equity incentive plan plan collectively plan beginning march award granted plan addition award previously granted prior plan terminate without issuance share shall eligible issuance plan plan company grant employee outside director consultant award form qualified stock option share restricted stock stock unit stock appreciation right performance share company board director administers plan responsible determining individual granted option share number option share individual receive price share exercise period option december million share available grant award company plan company board director approved issuance market based restricted stock certain executive eligible vest volume weighted average closing price consecutive trading equal exceeds certain stock price specific performance period july july company utilized monte carlo simulation estimate fair value restricted stock grant date connection appointment chief executive officer november company entered employment agreement provided grant restricted stock award stock option performance stock award award approved compensation committee synchronoss board director granted inducement equity award outside plan accordance nasdaq listing rule inducement rule dece',\n",
              " 'note investment hong kong joint venture company hold interest joint venture hong kong corporation manufacturing facility people republic china manufacturing consumer electronic product march company investment balance respectively interest hong kong joint venture material difference gaap used hong kong joint venture following represents summarized financial information derived financial statement hong kong joint venture march march current asset property asset total asset current liability current liability equity total liability equity year ended march sale gross profit loss year ended march company purchased respectively finished product hong kong joint venture represents respectively company total finished product purchase march company outstanding extended payment term agreement hong kong joint venture agreement provides extended payment term purchase inventory hong kong joint venture purchase agreement limited bear interest term hundred twenty unsecured dividend declared paid hong kong joint venture amounted fiscal year ended march respectively first used repay outstanding balance',\n",
              " 'prepaid expense current asset prepaid expense current asset consist principally receivables prepaid expense',\n",
              " 'obsolescence allowance inventory follows year ended march balance beginning year usage additional charge written balance year',\n",
              " 'segment information company reportable segment plastic injection molding electronic product assembling company reportable segment strategic business unit offer different product service managed separately business requires different technology marketing strategy business acquired unit management time acquisition retained company used include corporate expense mainly comprised director remuneration legal professional expense corporate insurance expense segment plastic injection commencing year corporate expense separately disclosed segment information precise presentation financial performance segment accounting policy segment described summary significant accounting policy company account intersegment sale transfer sale transfer third party current market price contribution major activity profitability information asset information company reportable segment year ended march follows year ended march sale intersegment sale income loss income sale intersegment sale income loss income sale intersegment sale income loss income segment injection molded plastic part electronic product segment total reconciliation consolidated total sale elimination corporate expense consolidated total sale loss',\n",
              " 'allowance doubtful account company regularly monitor risk collecting amount owed company customer evaluation based upon variety factor including ongoing credit evaluation customer financial condition analysis amount current past along relevant history fact particular customer based upon result analysis company record allowance uncollectible account risk analysis requires company make significant estimate change fact circumstance could result material change allowance doubtful account unanticipated change liquidity financial position company customer require additional provision doubtful account year ended march allowance doubtful account balance beginning year provision year debt recovery written provision debt recovery year charged income expense consolidated statement comprehensive income loss',\n",
              " 'march finished good computer component total inventory',\n",
              " 'unaudited selected quarterly result operation follows thousand except share amount quarter first second third fourth year revenue gross profit operating income loss basic diluted earnings income loss share revenue gross profit operating income loss basic diluted earnings income loss share',\n",
              " 'merger agreement provides zebra commence offer promptly practicable event later business july subject majority outstanding share common stock tendered offer condition described merger agreement zebra cause merger irrevocably accept purchase thereafter share common stock validly tendered properly withdrawn pursuant offer soon practicable expiration offer event later three business offer acceptance offer consummated company stockholder receive share common stock validly tendered properly withdrawn stockholder prior date expiration offer without interest thereon subject deduction withholding offer must stay open business extended consecutive period five period agreed party zebra right obligated time time time sole discretion waive condition modify term offer',\n",
              " 'closing offer subject following condition merger agreement terminated accordance term least outstanding share company common stock plus share tendered judgment enacted promulgated issued entered amended enforced governmental authority applicable enjoins otherwise prohibits consummation offer merger company representation warranty forth merger agreement generally true correct except failure true correct would individually aggregate reasonably expected material adverse effect company company complied performed material respect obligation required complied performed since date merger agreement shall effect change event occurrence individually aggregate would reasonably expected material adverse effect company aggregate company indebtedness plus amount payable offer merger respect share common stock option purchase common stock rsus shall equal viii receipt foreign regulatory approval',\n",
              " 'smaller reporting company',\n",
              " 'restatement previously reported condensed consolidated quarterly financial statement described additional detail explanatory note form company restated audited consolidated financial statement year ended december certain unaudited quarterly result related quarter ended december march june september december including month ended june april received report company internal reporting system alleging violation company accounting policy procedure regarding failure accrue certain specified expense first quarter based company initial review time company identified approximately million expense including legal property performance based compensation accrued first quarter reflected ppgs earnings quarter ended march released april addition report alleged unspecified expense potentially million aggregate improperly accrued first quarter audit committee board director audit committee oversaw investigation matter forth internal report assistance outside counsel forensic accountant investigation identified following item respect quarter ended march addition approximately million expense described failure record amortization expense amount million correct amortization intangible asset inadvertently recorded three year period discovered march understatement health insurance accrued liability amount million failure record adjustment increasing value inve',\n",
              " 'june ownership structure expressed percentage general limited partnership interest follows subsidiary holding unaffiliated holder',\n",
              " 'analysis significant assumption used income approach projected cash flow following discount long term growth rate expedited pool intermodal discount rate long term growth rate',\n",
              " 'commitment contingency time time company party ordinary routine litigation incidental arising normal course business company believe pending action individually aggregate material adverse effect business financial condition result operation primary claim company business relate worker compensation property damage vehicle liability medical benefit company insurance coverage provides self insurance level primary excess coverage management belief sufficient adequately protect company catastrophic claim renewed liability insurance policy april took additional risk exposure vehicle liability claim increasing self insurance retention deductible level item risk factor additional detail related risk insurance coverage opinion management adequate provision made incurred claim self insured limit including provision estimated claim incurred reported company estimate self insurance loss exposure evaluating merit circumstance surrounding individual known claim performing hindsight actuarial analysis determine estimate probable loss claim incurred reported loss realized immediately event underlying claim already occurred balance sheet date uncertainty ultimate resolution outstanding claim well uncertainty regarding claim incurred reported possible management provision loss could change materially near term however estimate currently made range additional loss least reasonably possible',\n",
              " 'cost capitalized software related accumulated amortization follows million capitalized software accumulated amortization capitalized software accumulated amortization',\n",
              " 'receivables receivables allowance doubtful account represent estimated realizable value provision doubtful account recorded based historical collection experience receivables receivables written deemed uncollectible note additional information',\n",
              " 'following table summarizes final allocation purchase price million preliminary adjustment final current asset land building equipment trademark asset goodwill total asset acquired current liability liability total liability assumed asset acquired',\n",
              " 'core laboratory',\n",
              " 'note stock option december board director company adopted stock option stock bonus plan plan board director adopted plan anticipates utilizing equity compensation part ongoing standard corporate operation connection contemplated activity going forward aggregate number share issued plan share subject adjustment provided therein plan includes type option option intended qualify incentive stock option section internal revenue code amended referred incentive option option intended qualify incentive option referred qualified option june option share common stock granted outstanding plan plan administered board director committee appointed board director addition determining granted option stock bonus committee authority discretion determine option bonus granted number option bonus granted committee also determine vesting forfeiture schedule bonus option granted time time option becomes exercisable duration exercise period option form form agreement certificate instrument evidencing grant made plan committee determine purchase price share common stock covered option committee also impose additional condition restriction inconsistent provision plan committee adopt amend rescind rule regulation opinion advisable administration plan event change stock split made company',\n",
              " 'basis presentation accompanying unaudited financial statement prepared accordance generally accepted accounting principle financial information instruction form include information footnote required united state generally accepted accounting principle complete financial statement however except disclosed herein material change information disclosed note financial statement fiscal year ended august included company filed security exchange commission unaudited financial statement read conjunction financial statement included form opinion management adjustment considered necessary fair presentation consisting solely normal recurring adjustment made operating result nine month ended necessarily indicative result expected year ending august',\n",
              " 'earnings loss share basic earnings loss share represents income loss period share common stock outstanding divided weighted average number share common stock outstanding applicable period diluted earnings share represents income divided weighted average number share common stock outstanding applicable period inclusive effect dilutive security outstanding stock option unvested restricted stock diluted loss share calculated dividing loss weighted average number share common stock outstanding applicable period reconciliation numerator denominator basic diluted earnings loss share calculation follows thousand except share amount twelve week ended twenty four week ended june june june june income loss weighted average share outstanding basic effect dilutive security assumed exercise time based stock option vesting restricted stock weighted average share share equivalent outstanding diluted basic income loss share diluted income loss share potentially dilutive security representing share common stock twelve week ended june share common stock twelve week ended june excluded computation diluted earnings share effect would antidilutive potentially dilutive security representing share common stock twenty four week ended june share common stock twenty four week ended june excluded computation diluted income loss',\n",
              " 'following table present financial asset liability company record fair value recurring basis identified level input used determine fair value june december million level level total level level total financial asset liability marketable security marketable security valued using total marketable security derivative',\n",
              " 'clcs',\n",
              " 'weighted weighted average average remaining number exercise life intrinsic warrant price year value outstanding december granted exercised forfeited outstanding december granted exercised forfeited outstanding december granted exercised exchanged forfeited outstanding december exercisable december',\n",
              " 'following table provides summary change fair value including transfer level liability measured fair value recurring basis using unobservable input nine month ended september accrued derivative compensation liability total balance december issuance warrant conversion option change fair value balance september',\n",
              " 'debt june december senior note principal amount senior note principal amount senior note principal amount revolving credit facility million million million million million june maturity principal portion debt follows thereafter certain company debt instrument issued agreement among thing limit ability ability subsidiary make certain payment including dividend limitation subject specific exception june company compliance term debt agreement december company issued aggregate principal amount senior note mature january senior note senior note issued price principal amount proceeds offering deducting underwriter discount offering expense january company used proceeds together cash hand redeem aggregate principal amount senior note herein defined connection redemption company recorded loss settlement debt interim consolidated statement operation december total cash used redeem senior note classified restricted cash carrying value senior note classified current liability consolidated balance sheet february company issued aggregate principal amount senior note mature february senior note march company issued additional',\n",
              " 'goodwill goodwill excess acquisition price fair value tangible identifiable intangible asset acquired company amortize goodwill performs impairment test goodwill annually whenever event circumstance indicate carrying amount goodwill exceed fair value company operates single operating segment reporting unit consequently evaluates goodwill impairment based evaluation fair value company whole november measurement date fair value company whole exceeded carrying amount company june event identified indicating impairment',\n",
              " 'month ended june loss attributable community health system stockholder transfer noncontrolling interest decrease community health system paid capital purchase subsidiary partnership interest transfer noncontrolling interest change community health system stockholder deficit loss attributable community health system stockholder transfer noncontrolling interest',\n",
              " 'stock based compensation company estimate fair value share based payment date grant using black scholes option pricing model requires assumption expected volatility share price common stock expected dividend yield risk free interest rate expected term stock based financial instrument since number outstanding free trading share company common stock limited trading volume relatively sufficient company specific information regarding volatility share price base estimate expected volatility result average historical volatility similar entity within industry expected volatility share price expected dividend yield company paid dividend common stock anticipate dividend foreseeable future risk free interest rate based treasury yield curve effect time grant date remaining term equal expected term stock based award stock based financial instrument issued party employee contractual term financial instrument expected term stock based financial instrument assumption used calculating fair value stock based financial instrument represent best estimate estimate involve inherent uncertainty application management judgment result factor change different assumption stock based compensation expense could materially different future',\n",
              " 'deferred asset deferred expense property equipment capitalized start expense deferred asset valuation allowance deferred asset',\n",
              " 'earnings common share income common share determined follows three month ended june month ended june million dollar except share data numerator income denominator weighted average common share basic dilution assumed exercise stock option nonvested stock award weighted average common share assuming dilution income common share basic assuming dilution treasury stock method account effect outstanding stock option nonvested restricted stock unit nonvested performance share unit computation diluted earnings share method potential common share dilutive effect individually measured average market price unum group common stock period exceeds exercise price stock option grant price nonvested restricted stock unit nonvested performance share unit outstanding stock option exercise price ranging nonvested restricted stock unit grant price ranging nonvested performance share unit grant price ranging computing earnings share assuming dilution potential common share dilutive reduce earnings share included three month ended june approximately million million potential common share respectively excluded computation diluted earnings share impact would antidilutive based current market price approximately million potential common share antidilutive three month ended june',\n",
              " 'amount reclassified accumulated comprehensive income loss recognized consolidated statement income follows three month ended june month ended june million dollar unrealized gain security realized investment gain loss gain loss sale security invested asset temporary impairment loss income expense benefit total gain hedge investment income gain interest rate swap forward loss foreign exchange contract realized investment gain loss gain interest rate swap loss foreign exchange contract interest debt expense loss interest rate swap income expense total unrecognized pension postretirement benefit cost expense amortization actuarial loss amortization prior service credit income benefit total',\n",
              " 'table forth accretable yield activity firm consumer loan three month ended june represents firm estimate gross interest income expected earned remaining life loan portfolio table excludes cost fund portfolio therefore accretable yield represent interest income expected earned portfolio total million except ratio three month ended june month ended june beginning balance accretion interest income change interest rate variable rate loan change expected cash flow balance june accretable yield percentage change expected cash flow vary period period firm continues refine cash flow model example cash flow expected collected impact modification change prepayment assumption',\n",
              " 'expense firm consolidated statement income included following three month ended june month ended june million legal expense fdic related expense',\n",
              " 'following table show impact single notch notch downgrade long term issuer rating jpmorgan chase subsidiary predominantly jpmorgan chase bank national association jpmorgan chase bank june december related cleared derivative contract contingent collateral termination feature triggered upon rating downgrade derivative contract generally require additional collateral posted termination triggered predefined threshold rating breached downgrade single rating agency result rating lower preexisting corresponding rating provided another major rating agency generally result additional collateral except certain instance additional initial margin required upon rating downgrade termination payment requirement liquidity impact table calculated based upon downgrade lowest current rating rating agency referred derivative contract liquidity impact downgrade trigger cleared derivative june december million single notch downgrade notch downgrade single notch downgrade notch downgrade amount additional collateral posted upon downgrade amount required settle contract termination trigger upon downgrade includes additional collateral posted initial margin amount represent fair value derivative payable reflect collateral posted following table show aggregate fair value derivative payable related cleared derivative contain contingent collateral termination feature triggered upon rating downgrade associated collateral firm posted normal course business june december',\n",
              " 'false',\n",
              " 'earnings common share basic earnings share amount earnings adjusted dividend declared preferred stock available common share outstanding reporting period diluted earnings share amount earnings available common share outstanding reporting period adjusted include effect potentially dilutive common share potentially dilutive common share include stock option stock based award potentially dilutive common share excluded computation diluted earnings share period effect would antidilutive basic diluted earnings common share calculated follows three month ended june month ended june dollar million except share amount earnings income loss continuing operation income loss attributable noncontrolling interest income loss continuing operation attributable dividend preferred stock income loss continuing operation attributable common shareholder income loss discontinued operation income loss attributable common shareholder weighted average common share weighted average common share outstanding effect common share option stock award weighted average common share potential common share outstanding earnings common share income loss continuing operation attributable common shareholder income loss discontinued operation income loss attributable common shareholder income loss continuing operation attributable common shareholder assuming',\n",
              " 'following table summarize gain loss derivative designated hedging instrument three month period ended june june recorded income statement three month ended june three month ended june million corporate service income consumer mortgage income income total corporate service income consumer mortgage income income total gain loss interest rate foreign exchange commodity credit total gain loss month ended june month ended june million corporate service income consumer mortgage income income total corporate service income consumer mortgage income income total gain loss interest rate foreign exchange commodity credit total gain loss',\n",
              " 'mortgage servicing asset originate periodically sell commercial residential mortgage loan continue service loan buyer also purchase right service commercial mortgage loan lender record servicing asset purchase retain right service loan exchange servicing exceed going market servicing rate considered adequate compensation servicing additional information pertaining accounting mortgage servicing asset included note summary significant accounting policy heading servicing asset beginning page form commercial change carrying amount commercial mortgage servicing asset summarized follows three month ended june month ended june million balance beginning period servicing retained loan sale purchase amortization balance period fair value period fair value commercial mortgage servicing asset determined calculating present value future cash flow associated servicing loan calculation number assumption based current market condition range weighted average significant unobservable input used determine fair value commercial mortgage servicing asset june june along valuation technique shown following table dollar million june june valuation technique significant unobservable input range weighted average discounted cash flow expected default residual cash flow discount rate escrow earn rate servicing cost',\n",
              " 'false',\n",
              " 'long term obligation credit agreement january company entered credit agreement amended credit agreement lender issuing bank party thereto credit suisse cayman island branch csag administrative agent collateral agent credit agreement includes revolving line credit described million senior secured term loan term loan mature january connection credit agreement company terminated credit agreement defined among company certain subsidiary lender thereunder csag administrative agent collateral agent related agreement document august company entered incremental assumption agreement amendment credit agreement lowered interest rate company term loan february company entered incremental assumption agreement amendment amendment credit agreement lowered interest rate company term loan additional term loan portion credit agreement bear interest rate london interbank offered rate libor plus libor floor april company entered incremental revolving credit assumption agreement credit agreement increased size revolving line credit million million available january credit agreement allows unlimited incremental commitment extended option existing lender form revolving credit commitment term loan commitment combination incremental amount excess million long company satisfies senior secured leverage ratio contained credit agreement credit agreement',\n",
              " 'earnings share million except share data three month ended june month ended june income loss continuing operation gain loss disposition discontinued operationsnet income loss basic share weighted average share outstanding earnings loss share basic income loss continuing operation gain loss disposition discontinued operationsnet income loss diluted share weighted average share outstanding basic effect dilutive security stock option restricted stock award diluted weighted average share outstanding earnings loss share diluted income loss continuing operation gain loss disposition discontinued operationsnet income loss weighted average option purchase approximately share company common stock value share common stock outstanding three month ended june included computation diluted share effect would anti dilutive option outstanding june weighted average restricted stock award outstanding three month ended june respectively included computation diluted share effect would anti dilutive performance target expected achieved award contingent upon performance weighted average restricted stock award outstanding three month ended june respectively included computation diluted share effect would anti dilu',\n",
              " 'following table provides amount cash cash equivalent presented condensed consolidated statement cash flow million june december cash cash equivalent cash cash equivalent continuing operation cash cash equivalent held sale total cash cash equivalent',\n",
              " 'stockholder equity change accumulated comprehensive income loss table present change aoci component three month ended june amount million three month ended june three month ended june derivative hedging debt equity security pension liability total derivative hedging debt equity security pension liability total beginning balance comprehensive income loss reclassification amount reclassified aoci comprehensive income loss ending balance month ended june month ended june derivative hedging debt equity security pension liability total derivative hedging debt equity security pension liability total beginning balance comprehensive income loss reclassification amount reclassified aoci comprehensive income loss ending balance reclassification million loss million benefit aoci gain loss disposition discontinued operation connection sale mhps business month ended june reclassification aoci',\n",
              " 'fair value asset liability june december follows thousand june december fair value level level level fair value level level level asset serp interest rate swap',\n",
              " 'three month ended june nine month ended june operating income loss access equipment defense fire emergency commercial corporate intersegment elimination consolidated interest expense interest income miscellaneous income expense income income earnings unconsolidated affiliate',\n",
              " 'business segment information company organized four reportable segment based internal organization used president chief executive officer making operating decision measuring performance based similarity customer served common management common facility economic result attained accordance fasb topic segment reporting purpose business segment performance measurement company allocate individual business segment cost item operating nature organizational functional expense corporate nature caption corporate includes corporate office expense share based compensation cost certain business initiative shared service operation benefiting multiple segment result insignificant operation identifiable asset business segment exclude general corporate asset principally consist cash cash equivalent certain property plant equipment certain asset pertaining corporate activity intersegment sale generally include amount invoiced segment work performed another segment amount based actual work performed agreed upon pricing intended reflective contribution made supplying business segment selected financial information concerning company reportable segment product line follows million three month ended june external customer inter segment sale external customer inter segment sale access equipment aerial work platform telehandlers total access equipment defense fire emergency commercial concrete placement refuse collection',\n",
              " 'three month ended june month ended june combined condensed statement operation revenue expense depreciation amortization interest operating real estate general administrative provision income total gain disposition income',\n",
              " 'total expended property plant equipment follows thousand nine month ended june expended property plant equipment product service solution total expended property plant equipment',\n",
              " 'unit exchangeable share common stock',\n",
              " 'following table summarize unrealized gain loss related short term investment designated available sale june thousand unaudited gross gross adjusted cost unrealized gain unrealized loss fair value corporate bond treasury agency time deposit total short term investment thousand december gross gross adjusted cost unrealized gain unrealized loss fair value corporate bond time deposit total short term investment',\n",
              " 'related party transaction included amount related party affiliate april project hope bronx relating predevelopment cost company owned subsidiary controlling class member limited liability company included amount related party affiliate april relating fund provided member cranston brewery cranston associate owned subsidiary company cranston brewery owns cranston associate included amount related party affiliate payable cranston brewery april respectively cranston brewery affiliate owned company amount represents funding operation trolley barn associate company advance trolley barn associate eliminated consolidation included amount related party affiliate payable folly brook common april respectively folly brook common owned chairman company amount represents remaining balance condominium sold folly brook common subsidiary company',\n",
              " 'property held sale company classifies property held sale management commits sell property actively market property potential buyer fair market value property available immediate sale present condition subject term usual customary sale property sale probable within year',\n",
              " 'following forth tnmps recent interim transmission cost rate increase effective date approved increase rate base annual increase revenue million september march september march',\n",
              " 'june parent guarantor guarantor elims consolidated current asset cash cash equivalent receivables trade inventory current asset total current asset property goodwill asset investment subsidiary total asset current liability short term debt account note payable current liability total current liability long term debt retirement benefit intercompany payable receivable liability mezzanine equity equity attributable meritor noncontrolling interest total liability mezzanine equity equity june asset liability held sale consisted million property asset liability held sale included guarantor column september parent guarantor guarantor elims consolidated current asset cash cash equivalent receivables trade inventory current asset total current asset property goodwill asset investment subsidiary total asset current liability short term debt account note payable current liability total current liability long term debt retirement benefit intercompany payable receivable',\n",
              " 'supplemental guarantor condensed consolidating financial statement rule regulation requires separate financial information issuer guarantor registered security filed certain circumstance certain company percent owned subsidiary defined credit agreement guarantor irrevocably unconditionally guarantee amount outstanding senior secured revolving credit facility joint several basis similar subsidiary guarantee provided benefit holder note outstanding company indenture note lieu providing separate audited financial statement parent guarantor company included accompanying condensed consolidating financial statement permitted regulation rule condensed consolidating financial statement presented equity method method investment subsidiary recorded cost adjusted parent share subsidiary cumulative result operation capital contribution distribution equity change guarantor combined condensed consolidating financial statement three month ended june parent guarantor guarantor elims consolidated sale external subsidiary total sale cost sale gross margin selling general administrative restructuring cost operating income operating income loss income expense equity earnings affiliate interest income expense income loss income benefit provision income equity income continuing operation subsidiary income continuing opera',\n",
              " 'summary change carrying value goodwill company reportable segment presented million commercial truck trailer aftermarket industrial total goodwill accumulated impairment loss beginning balance september adjustment sale business note fabco measurement period adjustment note goodwill acquired acquisition note foreign currency translation balance june amount recast reflect reportable segment change note',\n",
              " 'following table present component periodic benefit cost plan pension benefit three month ended month ended june june million service cost interest cost expected return plan asset amortization unrecognized loss settlement charge periodic benefit cost postretirement benefit three month ended month ended june june million interest cost expected return plan asset amortization unrecognized prior service benefit periodic benefit cost',\n",
              " 'segment company five reportable segment comprised four individual operating subsidiary diamond offshore boardwalk pipeline loews hotel corporate segment operation consolidated container included corporate segment three month ended june period acquisition date june operating subsidiary headed chief executive officer responsible operation business duty authority commensurate position additional disclosure regarding composition company segment note consolidated financial statement company annual report form year ended december following table present reportable segment company contribution consolidated condensed statement income amount presented necessarily individual financial statement company subsidiary adjustment purchase accounting income noncontrolling interest statement income segment presented following table three month ended june financial diamond offshore boardwalk pipeline loews hotel corporate total million revenue insurance premium investment income investment loss operating revenue total expense insurance claim policyholder benefit amortization deferred acquisition cost operating expense interest total income loss income income expense benefit income loss amount attributable noncontrolling interest',\n",
              " 'following table discussion present detail prior year claim claim adjustment expense reserve development cnas property casualty operation three month ended month ended june june million medical professional liability professional liability management liability surety commercial auto general liability worker compensation total pretax favorable unfavorable development',\n",
              " 'component temporary impairment otti loss recognized earnings asset type follows three month ended june month ended june million fixed maturity security available sale corporate bond asset backed otti loss recognized earnings',\n",
              " 'inventory consisted following june december thousand material work progress finished good',\n",
              " 'following table provides information revenue differentiated based product category dollar million three month ended june sale sale product category impact resistant window door product impact window door product total sale month ended june sale sale product category impact resistant window door product impact window door product total sale',\n",
              " 'performance percentage ranging greater provide awarding share ranging share original number share',\n",
              " 'weighted average yield based amortized cost june dollar thousand weighted amortized fair average maturity cost value yield available sale within year five year five year beyond year total held maturity within year five year five year beyond year total',\n",
              " 'following table present security sold agreement repurchase related weighted average interest rate month ended june dollar thousand outstanding june average amount outstanding maximum amount outstanding month weighted average interest rate month ended june june',\n",
              " 'following table present recorded investment residential consumer loan based payment activity june december consumer dollar thousand residential home equity auto june performing nonperforming total december performing nonperforming total',\n",
              " 'accrued liability consist following thousand june december accrued clinical manufacturing expense accrued professional consulting service total accrued liability',\n",
              " 'following table summarizes activity market condition award plan related information number unit weighted average grant date fair value vested market condition award december granted vested forfeited vested market condition award june',\n",
              " 'restaurant portfolio optimization fiscal company initiated plan review restaurant portfolio restaurant portfolio optimization program included identifying certain company operated restaurant refranchised certain underperforming company operated restaurant would closed thirteen week ended july company refranchised company operated restaurant existing franchisee connection refranchising company recorded gain million included refranchising related asset write down condensed consolidated statement operation company expects refranchise approximately company operated restaurant another existing franchisee transaction remains subject final negotiation execution definitive sale purchase agreement diligence customary closing condition expected close second half fiscal anticipation expected refranchising company reclassified million asset related company operated restaurant asset held sale included current asset condensed consolidated balance sheet company determined goodwill allocated disposal group result reclassification company recorded impairment charge million thirteen week ended july representing write asset estimated fair value included refranchising related asset write down condensed consolidated statement operation million impairment associated asset write comprised million related franchise right million related property equipment fair value measurement based level input addition company expects record closed store obligation approximately million million',\n",
              " 'basis presentation consolidation accompanying unaudited condensed consolidated financial statement prepared accordance generally accepted accounting principle practice united state america gaap interim financial information opinion management adjustment consisting normal recurring adjustment considered necessary fair statement result interim period included certain information footnote disclosure normally included audited consolidated financial statement presented accordance gaap condensed omitted pursuant rule regulation condensed consolidated financial statement read conjunction company result operation financial position cash flow company financial statement fiscal year ended december certain previously reported amount december thirteen twenty week ended june recast reflect financial result company accordance revenue recognition standard note discussion result operation cash flow reported condensed consolidated financial statement regarded necessarily indicative result expected entire fiscal year company consolidates entity controlling financial interest usual condition ownership majority voting interest significant intercompany account transaction eliminated consolidation',\n",
              " 'lease agreement office space hong kong duration year',\n",
              " 'lease agreement office space hangzhou china duration year',\n",
              " 'following table present related party transaction avon affiliate cerberus instituto avon brazil related party transaction avon majority owned managed cerberus note investment avon detail three month ended june month ended june statement operation data revenue sale product avon gross profit sale product avon cost sale purchase avon selling general administrative expense related avon transition service intellectual property technical support innovation sublease project management team reduction selling general administrative expense interest income instituto avon june december balance sheet data inventory receivables avon receivables instituto avon payable avon payable affiliate cerberus company supply product avon part manufacturing supply agreement avon supply product company part manufacturing supply agreement noted company purchased avon associated agreement three month ended june respectively recorded associated purchase within cost sale consolidated statement operation three month ended june respectively company purchased avon associated agreement month ended june respectively recorded associated purchase within cost sale',\n",
              " 'segment information determine segment profit deducting related cost expense segment revenue segment profit includes allocation global marketing expense based actual revenue segment profit excludes global expense allocation marketing cost implement restructuring initiative note restructuring initiative loss contingency related pension plan note employee benefit plan certain significant asset impairment charge item allocated particular segment applicable consistent manner performance allocate resource summarized financial information concerning reportable segment follows three month ended june month ended june total revenue europe middle east africa south latin america north latin america asia pacific total revenue reportable segment operating segment business activity total revenue three month ended june month ended june operating profit segment profit europe middle east africa south latin america north latin america asia pacific total profit reportable segment operating segment business activity unallocated global expense restructuring initiative loss contingency operating profit operating segment business activity include market exited effective first quarter given exiting australia',\n",
              " 'unfunded letter credit lending commitment june december presented thousand june december letter credit commitment fund commercial industrial loan commitment fund commercial real estate construction land development loan commitment home equity line credit unused credit card line loan commitment total unfunded lending commitment letter credit represent contractual amount risk participation approximately million million june december respectively',\n",
              " 'following table present asset measured fair value recurring basis date indicated fair value adjustment month ended june year ended december june december thousand level level level total level level level total impaired loan loan held sale real estate asset held sale collateral dependent impaired loan written fair value period',\n",
              " 'note subsequent event pending acquisition financial holding july synovus entered merger agreement among synovus azalea merger corp pursuant synovus acquire reverse triangular merger effective time merger outstanding share class common stock value share converted right receive without interest share synovus common stock value share merger agreement unanimously approved company board director transaction subject customary closing condition including approval synovus shareholder approval state federal regulator expected close first quarter operates full service banking center wholly owned banking subsidiary florida community bank following closing florida community bank merge synovus bank operate synovus brand redemption series preferred stock august synovus redeemed outstanding share series preferred stock cash price share without interest aggregate redemption price million paid dividend million series preferred stock redemption series preferred stock funded primarily proceeds synovus public offering million series preferred stock completed june concurrent redemption synovus recognize extinguishment loss million income available common shareholder million extinguishment loss recognized manner similar treatment dividend paid preferred stock three month ending september',\n",
              " 'following schedule present additional information regarding impaired loan class loan segregated requiring valuation allowance requiring valuation allowance three month ended june respective interest income amount recognized three month ended june three month ended june month ended june month ended june dollar thousand average recorded investment interest income recognized impaired status average recorded investment interest income recognized impaired status average recorded investment interest income recognized impaired status average recorded investment interest income recognized impaired status impaired loan valuation allowance commercial commercial real estate owner occupied owner occupied vacant land total commercial real estate real estate construction land development residential mortgage consumer installment home equity subtotal impaired loan related valuation allowance commercial commercial real estate owner occupied owner occupied vacant land total commercial real estate real estate construction land development residential mortgage consumer installment home equity',\n",
              " 'following schedule summarizes information debt security available sale held maturity gross unrealized loss june december aggregated category length time individual security continuous unrealized loss position june corporation security portfolio consisted security unrealized loss position month month total dollar thousand fair value gross unrealized loss fair value gross unrealized loss fair value gross unrealized loss june government sponsored agency state political subdivision residential mortgage backed security collateralized mortgage obligation corporate bond trust preferred security total december government sponsored agency state political subdivision residential mortgage backed security collateralized mortgage obligation corporate bond trust preferred security total',\n",
              " 'summary corporation loan follows dollar thousand originated acquired total loan june commercial loan portfolio commercial commercial real estate owner occupied owner occupied vacant land total commercial real estate real estate construction land development subtotal consumer loan portfolio residential mortgage consumer installment home equity subtotal total loan december commercial loan portfolio commercial commercial real estate owner occupied owner occupied vacant land total commercial real estate real estate construction land development subtotal consumer loan portfolio residential mortgage consumer installment home equity subtotal total loan acquired loan accounted topic loan debt security acquired deteriorated credit quality reported deferred cost totaling million million june december respectively',\n",
              " 'following table present assumption utilized determining fair value loan servicing right june december mortgage june prepayment speed weighted average discount rate cost service year ancillary income year float range december prepayment speed discount rate cost service year ancillary income year float range',\n",
              " 'summary reserve representation warranty corporation follows three month ended june month ended june dollar thousand reserve balance beginning period reserve reduction charge offs ending reserve balance dollar thousand june december reserve balance liability specific claim general allowance total reserve balance',\n",
              " 'large accelerated filer',\n",
              " 'long term debt long term debt consisted following july december series class note series class note anticipated repayment date series class note anticipated repayment date series class note series class note repaid refinancing series class note anticipated repayment date series class note anticipated repayment date debenture capital lease obligation unamortized debt issuance cost amount payable within year total long term debt january wendys funding master issuer limited purpose bankruptcy remote wholly owned indirect subsidiary company completed refinancing transaction master issuer issued fixed rate senior secured note following series class initial principal amount class initial principal amount collectively series class note interest payment series class note payable quarterly basis legal final maturity date series class note march master issuer repaid redeemed series class note prior respective anticipated repayment date additional interest accrue note equal greater annum annum interest rate equal excess yield maturity adjusted quarterly bond equivalent basis anticipated repayment date united state treasury security term closest year plus plus respect series class',\n",
              " 'trust service investment management trust service investment management include investment management personal trust employee benefit custodial trust service obligation trust service generally satisfied time satisfied point time certain activity transactional nature',\n",
              " 'following table present unrealized gain loss period relates equity security still held reporting date calculated follows million dollar three month ended july month ended july gain recognized period equity security gain recognized period equity security sold period unrealized gain reporting period equity security still held reporting date second quarter includes million unrealized gain reflecting adoption accounting standard first quarter million unrealized gain equity security first month includes million unrealized gain reflecting adoption accounting standard first quarter million unrealized loss equity security additional information note note',\n",
              " 'following table provides information balance sheet classification accrual million dollar july december reserve trade account receivable allowance doubtful account current liability accrued rebate accrual noncurrent liability total accrued rebate accrual',\n",
              " 'following table provides component inventory million dollar july december finished good work process material supply inventory noncurrent inventory included change december reflects increase certain product meet targeted level normal course business including inventory build supply recovery network strategy product launch partially offset decrease foreign exchange included noncurrent asset recoverability issue associated amount',\n",
              " 'total gain loss security reported consolidated statement income comprehensive income comprised following month ended june dollar thousand june june realized gain sale security available sale unrealized holding loss equity security total gain loss security']"
            ]
          },
          "metadata": {
            "tags": []
          },
          "execution_count": 18
        }
      ]
    },
    {
      "cell_type": "code",
      "metadata": {
        "id": "yG2IWZqbRNDl",
        "colab_type": "code",
        "colab": {}
      },
      "source": [
        "## Write corpus to a file."
      ],
      "execution_count": 0,
      "outputs": []
    },
    {
      "cell_type": "code",
      "metadata": {
        "id": "cRqy08OBRQ04",
        "colab_type": "code",
        "colab": {}
      },
      "source": [
        "## Write data cleansed to the file.\n",
        "with open('/content/drive/My Drive/final-project/corpus/corpus.txt', 'w+') as f:\n",
        "    for line in corpus:\n",
        "        f.write(\"%s\\n\" % line)"
      ],
      "execution_count": 0,
      "outputs": []
    }
  ]
}